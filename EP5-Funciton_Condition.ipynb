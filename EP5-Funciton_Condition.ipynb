{
    "cells": [
        {
            "cell_type": "markdown",
            "id": "57f03e3a",
            "metadata": {},
            "source": [
                "# Python 101: เงื่อนไขและการตัดสินใจ (if, else), การวนซ้ำ (loop)\n",
                "\n",
                "ในบทเรียนนี้ เราจะเรียนรู้เกี่ยวกับ:\n",
                "- ฟังก์ชัน (functions)\n",
                "- เงื่อนไขและการตัดสินใจ (if-else, elif)\n",
                "- การวนซ้ำ (Looping): for, while, break, continue"
            ]
        },
        {
            "cell_type": "markdown",
            "id": "a04021c1",
            "metadata": {},
            "source": [
                "## ฟังก์ชัน (functions)\n",
                "- ฟังก์ชันคือบล็อกของโค้ดที่ทำงานเฉพาะเมื่อมีการเรียกใช้งานเท่านั้น\n",
                "- คุณสามารถส่งข้อมูลที่เรียกว่า arguments เข้าไปในฟังก์ชันได้\n",
                "- ฟังก์ชันสามารถส่งคืนข้อมูลเป็นผลลัพธ์ได้\n"
            ]
        },
        {
            "cell_type": "code",
            "execution_count": null,
            "id": "bbee04c5",
            "metadata": {},
            "outputs": [],
            "source": [
                "def hello():\n",
                "  print(\"Hello from LouisMakerLab!\")\n",
                "\n",
                "hello()"
            ]
        },
        {
            "cell_type": "code",
            "execution_count": null,
            "id": "cd597eb6",
            "metadata": {},
            "outputs": [],
            "source": [
                "def greet(name):\n",
                "    print(f\"Hello, {name}!\")\n",
                "\n",
                "greet(\"Youtube\")"
            ]
        },
        {
            "cell_type": "code",
            "execution_count": null,
            "id": "fb02d5cb",
            "metadata": {},
            "outputs": [],
            "source": [
                "def add(x, y):\n",
                "    return x + y\n",
                "\n",
                "result = add(3, 5)\n",
                "print(result)"
            ]
        },
        {
            "cell_type": "code",
            "execution_count": null,
            "id": "3e0be82b",
            "metadata": {},
            "outputs": [],
            "source": [
                "def greet(name=\"Guest\"):\n",
                "    print(f\"Hello, {name}!\")\n",
                "\n",
                "greet() # ใช้ค่าเริ่มต้น \n",
                "greet(\"Bob\") # ใช้ค่าที่ส่งเข้าไป"
            ]
        },
        {
            "cell_type": "code",
            "execution_count": null,
            "id": "63ed0a13",
            "metadata": {},
            "outputs": [],
            "source": [
                "def sum_numbers(*numbers):\n",
                "    total = 0\n",
                "    print(numbers)\n",
                "    for num in numbers:\n",
                "        total += num\n",
                "    return total\n",
                "\n",
                "print(sum_numbers(1, 2, 3, 4))"
            ]
        },
        {
            "cell_type": "code",
            "execution_count": null,
            "id": "65a1886f",
            "metadata": {},
            "outputs": [],
            "source": [
                "def print_info(**info):\n",
                "    for key, value in info.items():\n",
                "        print(f\"{key}: {value}\")\n",
                "\n",
                "print_info(name=\"Smith\", age=25, city=\"Bangkok\", salary=50000)"
            ]
        },
        {
            "cell_type": "markdown",
            "id": "9e309eb3",
            "metadata": {},
            "source": [
                "## เงื่อนไขและการตัดสินใจ (if-else, elif)\n",
                "\n",
                "### if-else\n",
                "- ใช้สำหรับตรวจสอบเงื่อนไขและทำงานตามเงื่อนไขนั้น\n",
                "\n",
                "### elif\n",
                "- ใช้สำหรับตรวจสอบเงื่อนไขเพิ่มเติม หากเงื่อนไขก่อนหน้าไม่เป็นจริง"
            ]
        },
        {
            "cell_type": "code",
            "execution_count": null,
            "id": "d856a656",
            "metadata": {},
            "outputs": [],
            "source": [
                "def check_age(age):\n",
                "    if age < 13:\n",
                "        print(\"คุณยังเป็นเด็ก\")\n",
                "    elif 13 <= age < 20:\n",
                "        print(\"คุณเป็นวัยรุ่น\")    \n",
                "    elif 20<= age < 40:\n",
                "        print(\"คุณเป็นผู้ใหญ่\")\n",
                "    else:\n",
                "        print(\"คุณเป็นผู้สูงอายุ\")\n",
                "\n",
                "# เรียกใช้ฟังก์ชัน\n",
                "check_age(15)\n",
                "check_age(20)\n",
                "check_age(60)"
            ]
        },
        {
            "cell_type": "markdown",
            "id": "4c71a468",
            "metadata": {},
            "source": [
                "## การวนซ้ำ (Looping): for, while, break, continue"
            ]
        },
        {
            "cell_type": "markdown",
            "id": "ce8fc52f",
            "metadata": {},
            "source": [
                "\n",
                "### for loop\n",
                "- ใช้สำหรับวนซ้ำใน list, string, หรือช่วงตัวเลข\n"
            ]
        },
        {
            "cell_type": "code",
            "execution_count": null,
            "id": "9b3ebc6e",
            "metadata": {},
            "outputs": [],
            "source": [
                "# ตัวอย่าง for loop\n",
                "print(\"ตัวเลขตั้งแต่ 1 ถึง 5:\")\n",
                "for i in range(1, 6):\n",
                "    print(i)\n",
                "\n",
                "print(\"ตัวเลขคี่ตั้งแต่ 1 ถึง 9:\")\n",
                "for i in range(1, 10, 2):\n",
                "    print(i)\n",
                "\n",
                "print(\"ตารางสูตรคูณแม่ 2 ถึง 3:\")\n",
                "# first x second\n",
                "for i in range(2, 4):\n",
                "    for j in range(1, 6):\n",
                "        print(f\"{i} x {j} = {i*j}\")\n",
                "    print(\"-----\")\n"
            ]
        },
        {
            "cell_type": "markdown",
            "id": "8566ff5c",
            "metadata": {},
            "source": [
                "### break\n",
                "- ใช้สำหรับหยุดการวนซ้ำก่อนที่จะครบเงื่อนไข"
            ]
        },
        {
            "cell_type": "code",
            "execution_count": null,
            "id": "64112436",
            "metadata": {},
            "outputs": [],
            "source": [
                "# ตัวอย่าง break\n",
                "print(\"หยุดการวนซ้ำเมื่อเจอ 4:\")\n",
                "for i in range(1, 6):\n",
                "    if i == 4:\n",
                "        break\n",
                "    print(i)"
            ]
        },
        {
            "cell_type": "markdown",
            "id": "9ad2b829",
            "metadata": {},
            "source": [
                "### continue\n",
                "- ใช้สำหรับข้ามการทำงานในรอบนั้นและไปยังรอบถัดไป"
            ]
        },
        {
            "cell_type": "code",
            "execution_count": null,
            "id": "08a950e1",
            "metadata": {},
            "outputs": [],
            "source": [
                "# ตัวอย่าง continue\n",
                "print(\"แสดงตัวเลขยกเว้น 3:\")\n",
                "for i in range(1, 6):\n",
                "    if i == 3:\n",
                "        continue\n",
                "    print(i)"
            ]
        },
        {
            "cell_type": "markdown",
            "id": "6228a4a3",
            "metadata": {},
            "source": [
                "### while loop\n",
                "- ใช้สำหรับวนซ้ำจนกว่าเงื่อนไขจะเป็นเท็จ"
            ]
        },
        {
            "cell_type": "code",
            "execution_count": null,
            "id": "6f9d33c6",
            "metadata": {},
            "outputs": [],
            "source": [
                "# ตัวอย่าง while loop\n",
                "print(\"นับถอยหลังจาก 10:\")\n",
                "count = 10\n",
                "while count > 0:\n",
                "    # if count == 5:\n",
                "    #     print(\"Countdown stopped at 5!\")\n",
                "    #     break\n",
                "    if count == 7:\n",
                "        print(\"Countdown skipped 7!\")\n",
                "        count -= 1\n",
                "        continue\n",
                "    else:\n",
                "        print(count)\n",
                "    count -= 1"
            ]
        },
        {
            "cell_type": "markdown",
            "id": "2d4d6d09",
            "metadata": {},
            "source": [
                "# แบบฝึกหัด"
            ]
        },
        {
            "cell_type": "markdown",
            "id": "8cd94b4c",
            "metadata": {},
            "source": [
                "## โจทย์: โปรแกรมคำนวณเกรดนักเรียน (พื้นฐาน)\n",
                "\n",
                "### รายละเอียด\n",
                "เขียนโปรแกรมเพื่อรับข้อมูลชื่อนักเรียนและคะแนนจากผู้ใช้ แล้วทำการคำนวณเกรดตามเกณฑ์ที่กำหนด พร้อมแสดงผลลัพธ์ทันทีหลังจากกรอกข้อมูลแต่ละคน\n",
                "\n",
                "### ข้อกำหนด\n",
                "- สร้างฟังก์ชันชื่อ `calculate_grade(score)` เพื่อคำนวณเกรดจากคะแนน:\n",
                "  - คะแนนตั้งแต่ 80 ขึ้นไป ได้เกรด \"A\"\n",
                "  - คะแนนตั้งแต่ 70-79 ได้เกรด \"B\"\n",
                "  - คะแนนตั้งแต่ 60-69 ได้เกรด \"C\"\n",
                "  - คะแนนตั้งแต่ 50-59 ได้เกรด \"D\"\n",
                "  - คะแนนต่ำกว่า 50 ได้เกรด \"F\"\n",
                "\n",
                "- สร้างฟังก์ชันหลักชื่อ `process_students()` เพื่อทำงานดังนี้:\n",
                "  - รับชื่อนักเรียนและคะแนนผ่านทาง `input()` ในลูป `while`\n",
                "  - ถ้าผู้ใช้พิมพ์ `exit` ในช่องชื่อ ให้จบโปรแกรม\n",
                "  - คำนวณเกรดโดยเรียกใช้ `calculate_grade(score)`\n",
                "  - แสดงผลลัพธ์ทันที:\n",
                "    - ถ้าได้เกรด \"F\" ให้แสดงข้อความ ❌\n",
                "    - ถ้าได้เกรด A, B, C, D ให้แสดงข้อความ ✅\n"
            ]
        },
        {
            "cell_type": "code",
            "execution_count": null,
            "id": "be57e061",
            "metadata": {},
            "outputs": [],
            "source": [
                "# ฟังก์ชันคำนวณเกรดจากคะแนน\n",
                "def calculate_grade(score):\n",
                "    if score >= 80:\n",
                "        return \"A\"\n",
                "    elif score >= 70:\n",
                "        return \"B\"\n",
                "    elif score >= 60:\n",
                "        return \"C\"\n",
                "    elif score >= 50:\n",
                "        return \"D\"\n",
                "    else:\n",
                "        return \"F\"\n",
                "\n",
                "# ฟังก์ชันหลักสำหรับประมวลผลนักเรียน\n",
                "def process_students():\n",
                "    while True:\n",
                "        name = input(\"กรุณากรอกชื่อนักเรียน (หรือพิมพ์ 'exit' เพื่อจบ): \")\n",
                "        if name.lower() == \"exit\":\n",
                "            print(\"จบการทำงานของโปรแกรม\")\n",
                "            break  # จบ loop ถ้าพิมพ์ exit\n",
                "\n",
                "        score = int(input(f\"กรอกคะแนนของ {name}: \"))\n",
                "        if score < 0 or score > 100:\n",
                "            print(\"กรุณากรอกคะแนนระหว่าง 0 ถึง 100 เท่านั้น\")\n",
                "            continue  # ถ้าคะแนนผิด ให้วนกลับไปถามใหม่\n",
                "\n",
                "        grade = calculate_grade(score)  # เรียกใช้ฟังก์ชันคำนวณเกรด\n",
                "        \n",
                "        # แสดงผลทันที\n",
                "        if grade == \"F\":\n",
                "            print(f\"{name} ได้เกรด F ❌\")\n",
                "        else:\n",
                "            print(f\"{name} ได้เกรด {grade} ✅\")\n",
                "\n",
                "# เรียกฟังก์ชันหลัก\n",
                "process_students()\n"
            ]
        },
        {
            "cell_type": "markdown",
            "id": "dfa1d82c",
            "metadata": {},
            "source": [
                "## โจทย์เพิ่มเติม \n",
                "- นับจำนวนคนที่ได้แต่ละเกรด (เช่น มี 2 คนได้ A, 3 คนได้ B ฯลฯ)"
            ]
        }
    ],
    "metadata": {
        "kernelspec": {
            "display_name": "Python 3",
            "language": "python",
            "name": "python3"
        },
        "language_info": {
            "codemirror_mode": {
                "name": "ipython",
                "version": 3
            },
            "file_extension": ".py",
            "mimetype": "text/x-python",
            "name": "python",
            "nbconvert_exporter": "python",
            "pygments_lexer": "ipython3",
            "version": "3.9.12"
        }
    },
    "nbformat": 4,
    "nbformat_minor": 5
}
