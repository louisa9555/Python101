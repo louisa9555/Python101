{
    "cells": [
        {
            "cell_type": "markdown",
            "metadata": {},
            "source": [
                "# Python 101: Containers และ Indentations\n",
                "\n",
                "ในบทเรียนนี้ เราจะเรียนรู้เกี่ยวกับ:\n",
                "- Containers (List, Tuple, Set, Dictionary)\n",
                "- โครงสร้างโค้ดที่ดี (Indentation, Comment)"
            ]
        },
        {
            "cell_type": "markdown",
            "id": "7207cc36",
            "metadata": {},
            "source": [
                "## Containers ใน Python\n",
                "\n",
                "Containers คือโครงสร้างข้อมูลที่ใช้เก็บข้อมูลหลายค่าในตัวแปรเดียว ตัวอย่างของ Containers ใน Python ได้แก่:\n",
                "- **List**: เก็บข้อมูลที่เปลี่ยนแปลงได้\n",
                "- **Tuple**: เก็บข้อมูลที่ไม่เปลี่ยนแปลง\n",
                "- **Set**: เก็บข้อมูลที่ไม่ซ้ำกัน\n",
                "- **Dictionary**: เก็บข้อมูลในรูปแบบคู่ key-value"
            ]
        },
        {
            "cell_type": "code",
            "execution_count": 4,
            "id": "1b9e3d5a",
            "metadata": {},
            "outputs": [
                {
                    "name": "stdout",
                    "output_type": "stream",
                    "text": [
                        "Louis MakerLab 25 True\n",
                        "Smith 15 False\n",
                        "Louis MakerLab 25 True\n",
                        "Smith 15 False\n",
                        "Smith 35 True\n"
                    ]
                }
            ],
            "source": [
                "# ตัวอย่างไม่ใช้ container\n",
                "name = \"Louis MakerLab\"\n",
                "age = 25\n",
                "is_adult = True\n",
                "\n",
                "name_2 = \"Smith\"\n",
                "age_2 = 15\n",
                "is_adult_2 = False\n",
                "\n",
                "print(name, age, is_adult)\n",
                "print(name_2, age_2, is_adult_2)\n",
                "\n",
                "# ตัวอย่าง list\n",
                "info = [\"Louis MakerLab\", 25, True, \"Smith\", 15, False, \"Smith\", 35, True]\n",
                "for index in range(0,len(info), 3):\n",
                "    print(info[index], info[index+1], info[index+2])"
            ]
        },
        {
            "cell_type": "markdown",
            "id": "e1c092de",
            "metadata": {},
            "source": [
                "### List\n",
                "- ใช้สำหรับเก็บข้อมูลหลายค่าเป็นลำดับ (index)\n",
                "- สามารถเพิ่ม, ลบ, หรือเปลี่ยนแปลงข้อมูลได้ (mutable)\n",
                "- ข้อมูลซ้ำได้\n",
                "- ประกาศด้วย [], list()"
            ]
        },
        {
            "cell_type": "code",
            "execution_count": 22,
            "id": "efb8a697",
            "metadata": {},
            "outputs": [
                {
                    "name": "stdout",
                    "output_type": "stream",
                    "text": [
                        "['red', 'green', 'blue']\n",
                        "['red', 'green', 'blue']\n",
                        "blue\n",
                        "['red', 'purple', 'green', 'blue', 'yellow']\n",
                        "['purple', 'green', 'blue']\n",
                        "['purple', 1, 20.354, True, 'blue']\n",
                        "yellow ไม่อยู่ใน list\n",
                        "จำนวนสี: 5\n",
                        "purple\n",
                        "1\n",
                        "20.354\n",
                        "True\n",
                        "blue\n",
                        "purple\n"
                    ]
                }
            ],
            "source": [
                "# ตัวอย่าง List\n",
                "colors = [\"red\", \"green\", \"blue\"]\n",
                "print(colors)\n",
                "\n",
                "colors = list((\"red\", \"green\", \"blue\"))\n",
                "print(colors)\n",
                "\n",
                "# การเข้าถึงข้อมูลใน List\n",
                "print(colors[2])  # red\n",
                "\n",
                "# เพิ่มข้อมูล\n",
                "colors.append(\"yellow\")\n",
                "colors.insert(1, \"purple\")\n",
                "print(colors)\n",
                "\n",
                "# ลบข้อมูล\n",
                "colors.remove(\"yellow\")\n",
                "colors.pop(0)\n",
                "print(colors)\n",
                "\n",
                "# แก้ไขข้อมูล\n",
                "colors[1] = 1\n",
                "colors.insert(2, True)\n",
                "colors.insert(2, 20.354)\n",
                "print(colors)\n",
                "\n",
                "# ค้นหาข้อมูล\n",
                "if \"yellow\" in colors:\n",
                "    print(\"yellow อยู่ใน list\")\n",
                "else:\n",
                "    print(\"yellow ไม่อยู่ใน list\")\n",
                "\n",
                "# ขนาดของ List\n",
                "print(\"จำนวนสี:\", len(colors))\n",
                "\n",
                "# การวนลูปใน List\n",
                "for color in colors:\n",
                "    print(color)\n",
                "\n",
                "# หา index ของข้อมูล\n",
                "try: \n",
                "    index_of_color = colors.index(\"purple\")\n",
                "    print(colors[0])    \n",
                "except Exception as e:\n",
                "    print(e)\n"
            ]
        },
        {
            "cell_type": "markdown",
            "id": "f339971e",
            "metadata": {},
            "source": [
                "### Tuple\n",
                "- คล้ายกับ List แต่ไม่สามารถเปลี่ยนแปลงข้อมูลได้ (immutable)\n",
                "- เป็นชนิดข้อมูลที่มีลำดับ (ordered)\n",
                "- เก็บข้อมูลซ้ำได้ (Allow Duplicates)"
            ]
        },
        {
            "cell_type": "code",
            "execution_count": 26,
            "id": "58f8d614",
            "metadata": {},
            "outputs": [
                {
                    "name": "stdout",
                    "output_type": "stream",
                    "text": [
                        "('red', 'green', 'blue')\n",
                        "('red', 'green', 'blue')\n",
                        "red\n",
                        "green\n",
                        "blue\n",
                        "จำนวนสี: 3\n"
                    ]
                }
            ],
            "source": [
                "# ตัวอย่าง Tuple\n",
                "colors = (\"red\", \"green\", \"blue\")\n",
                "print(colors)\n",
                "\n",
                "colors = tuple((\"red\", \"green\", \"blue\"))\n",
                "print(colors)\n",
                "\n",
                "# การเข้าถึงข้อมูลใน Tuple\n",
                "print(colors[0])  # red\n",
                "print(colors[1])  # green\n",
                "print(colors[2])  # blue\n",
                "\n",
                "# ไม่สามารถเพิ่มหรือลบข้อมูลได้\n",
                "# colors.append(\"yellow\")  # จะเกิดข้อผิดพลาด\n",
                "\n",
                "# ขนาดของ Tuple\n",
                "print(\"จำนวนสี:\", len(colors))"
            ]
        },
        {
            "cell_type": "markdown",
            "id": "26104384",
            "metadata": {},
            "source": [
                "### Set\n",
                "- ใช้สำหรับเก็บข้อมูลที่ไม่ซ้ำกัน\n",
                "- ไม่มีลำดับ (unordered) เรียกโดย index ไม่ได้\n",
                "- เปลี่ยนค่าไม่ได้ (immutable)\n",
                "- แต่ add หรือ delete ได้"
            ]
        },
        {
            "cell_type": "code",
            "execution_count": 43,
            "id": "5aacbe23",
            "metadata": {},
            "outputs": [
                {
                    "name": "stdout",
                    "output_type": "stream",
                    "text": [
                        "{0, 1, 2, 3, 4, 5}\n",
                        "{0, 1, 2, 3, 4, 5}\n",
                        "True\n",
                        "0\n",
                        "1\n",
                        "2\n",
                        "3\n",
                        "4\n",
                        "5\n",
                        "{0, 1, 2, 3, 4, 5, 6, 7}\n",
                        "{0, 1, 2, 3, 4, 5, 7}\n",
                        "{0, 1, 2, 3, 4, 5, 7}\n"
                    ]
                }
            ],
            "source": [
                "# ตัวอย่าง Set\n",
                "numbers = {0, 1, 1, 2, 3, 4, 4, 5}\n",
                "print(numbers)  # จะไม่แสดงค่าซ้ำ\n",
                "\n",
                "numbers = set((0, 1, 1, 2, 3, 4, 4, 5, True, False))\n",
                "print(numbers)  # จะไม่แสดงค่าซ้ำ\n",
                "\n",
                "# การเข้าถึงข้อมูลใน Set\n",
                "# print(numbers[0]) # จะเกิดข้อผิดพลาด เพราะ Set ไม่สามารถเข้าถึงข้อมูลด้วย index ได้\n",
                "print(5 in numbers)  # True (เร็วมาก)\n",
                "\n",
                "for item in numbers:\n",
                "    print(item)\n",
                "\n",
                "# เพิ่มข้อมูล\n",
                "numbers.add(6)\n",
                "numbers.update([5, 6, 7])  # Add multiple items\n",
                "print(numbers)\n",
                "\n",
                "# ลบข้อมูล\n",
                "numbers.remove(6)\n",
                "# numbers.remove(8) # จะเกิดข้อผิดพลาดถ้าไม่มีข้อมูลใน Set\n",
                "print(numbers)\n",
                "\n",
                "# try:\n",
                "#     numbers.remove(8)\n",
                "# except KeyError:\n",
                "#     print(\"Item not found in the set.\")\n",
                "# print(numbers)\n",
                "\n",
                "# ลบข้อมูลที่ไม่มีใน Set\n",
                "numbers.discard(6)  # ถ้าไม่มีจะไม่เกิดข้อผิดพลาด\n",
                "numbers.discard(8)  # ถ้าไม่มีจะไม่เกิดข้อผิดพลาด\n",
                "print(numbers)"
            ]
        },
        {
            "cell_type": "code",
            "execution_count": 49,
            "id": "221691ad",
            "metadata": {},
            "outputs": [
                {
                    "name": "stdout",
                    "output_type": "stream",
                    "text": [
                        "{1, 2, 3, 4, 5}\n",
                        "{1, 2, 3, 4, 5}\n",
                        "{3}\n",
                        "{3}\n",
                        "{1, 2}\n",
                        "{1, 2}\n",
                        "{1, 2, 4, 5}\n"
                    ]
                }
            ],
            "source": [
                "a = {1, 2, 3}\n",
                "b = {3, 4, 5}\n",
                "print(a | b)          # {1, 2, 3, 4, 5}\n",
                "print(a.union(b))     # same\n",
                "print(a & b)          # {3}\n",
                "print(a.intersection(b))  # same\n",
                "print(a - b)          # {1, 2}\n",
                "print(a.difference(b))  # same\n",
                "print(a ^ b)          # Symmetric difference: The elements that are in either set, but not in both."
            ]
        },
        {
            "cell_type": "markdown",
            "id": "e199bd7b",
            "metadata": {},
            "source": [
                "### Dictionary\n",
                "- ใช้สำหรับเก็บข้อมูลในรูปแบบคู่ key-value\n",
                "- สามารถเข้าถึงข้อมูลได้โดยใช้ key"
            ]
        },
        {
            "cell_type": "code",
            "execution_count": null,
            "id": "77be3ed9",
            "metadata": {},
            "outputs": [
                {
                    "name": "stdout",
                    "output_type": "stream",
                    "text": [
                        "{'name': 'Louis', 'age': 25, 'city': 'Bangkok'}\n",
                        "Louis\n",
                        "{'name': 'Louis', 'age': 25, 'city': 'Bangkok', 'job': 'Teacher'}\n",
                        "{'name': 'Louis', 'age': 25, 'city': 'Chiang Mai', 'job': 'Teacher'}\n",
                        "มีข้อมูลชื่อ name\n",
                        "จำนวนข้อมูลใน Dictionary: 4\n",
                        "dict_items([('name', 'Louis'), ('age', 25), ('city', 'Chiang Mai'), ('job', 'Teacher')])\n",
                        "dict_values(['Louis', 25, 'Chiang Mai', 'Teacher'])\n",
                        "name : Louis\n",
                        "age : 25\n",
                        "city : Chiang Mai\n",
                        "job : Teacher\n",
                        "มีข้อมูลชื่อ Louis\n"
                    ]
                }
            ],
            "source": [
                "# ตัวอย่าง Dictionary\n",
                "person = {\"name\": \"Louis\", \"age\": 25, \"city\": \"Bangkok\"}\n",
                "print(person)\n",
                "\n",
                "# เข้าถึงข้อมูล\n",
                "print(person[\"name\"])\n",
                "\n",
                "# เพิ่มข้อมูล\n",
                "person[\"job\"] = \"Teacher\"\n",
                "print(person)\n",
                "\n",
                "# ลบข้อมูล\n",
                "# del person[\"age\"]\n",
                "# print(person)\n",
                "\n",
                "# แก้ไขข้อมูล\n",
                "person[\"city\"] = \"Chiang Mai\"\n",
                "print(person)\n",
                "\n",
                "# ค้นหาข้อมูล\n",
                "if \"name\" in person:\n",
                "    print(\"มีข้อมูลชื่อ name\")\n",
                "else:\n",
                "    print(\"ไม่มีข้อมูลชื่อ name\")\n",
                "\n",
                "# ขนาดของ Dictionary\n",
                "print(\"จำนวนข้อมูลใน Dictionary:\", len(person))\n",
                "\n",
                "# การวนลูปใน Dictionary\n",
                "for key, value in person.items():\n",
                "    print(key, \":\", value)\n",
                "\n",
                "# ค้นหาค่าที่มีใน Dictionary \n",
                "if \"Louis\" in person.values():\n",
                "    print(\"มีข้อมูลชื่อ Louis\")\n",
                "else:\n",
                "    print(\"ไม่มีข้อมูลชื่อ Louis\")"
            ]
        },
        {
            "cell_type": "markdown",
            "id": "ddffdfcd",
            "metadata": {},
            "source": [
                "## โครงสร้างโค้ดที่ดี (Indentation, Comment)\n",
                "\n",
                "### Indentation (การย่อหน้า)\n",
                "- Python ใช้การย่อหน้าเพื่อกำหนดโครงสร้างของโค้ด เช่น การเขียนในฟังก์ชัน, เงื่อนไข, หรือการวนซ้ำ\n",
                "- การย่อหน้าที่ไม่ถูกต้องจะทำให้เกิด SyntaxError\n",
                "\n",
                "### Comment (คอมเมนต์)\n",
                "- ใช้ `#` เพื่อเขียนคอมเมนต์ในโค้ด\n",
                "- คอมเมนต์ช่วยให้โค้ดอ่านง่ายขึ้นและอธิบายการทำงานของโค้ด"
            ]
        },
        {
            "cell_type": "code",
            "execution_count": null,
            "id": "c227048a",
            "metadata": {},
            "outputs": [
                {
                    "name": "stdout",
                    "output_type": "stream",
                    "text": [
                        "สวัสดี, สมชาย!\n"
                    ]
                }
            ],
            "source": [
                "# ตัวอย่างโครงสร้างโค้ดที่ดี\n",
                "def greet(name):\n",
                "    # ฟังก์ชันนี้ใช้สำหรับแสดงคำทักทาย\n",
                "    if name:  # ตรวจสอบว่ามีชื่อหรือไม่\n",
                "        print(f\"สวัสดี, {name}!\")  # แสดงคำทักทาย\n",
                "    else:\n",
                "        print(\"สวัสดี, ผู้เยี่ยมชม!\")  # กรณีไม่มีชื่อ\n",
                "\n",
                "# เรียกใช้ฟังก์ชัน greet(name)\n",
                "greet(\"สมชาย\")"
            ]
        },
        {
            "cell_type": "code",
            "execution_count": null,
            "id": "d6cb1481",
            "metadata": {},
            "outputs": [],
            "source": [
                "# ตัวอย่างโครงสร้างผิด\n",
                "def greet(name):\n",
                "    if name:\n",
                "        print(f\"Hello, {name}!\")\n",
                "    else:\n",
                "        print(\"Hello, stranger!\")"
            ]
        },
        {
            "cell_type": "markdown",
            "id": "42043958",
            "metadata": {},
            "source": [
                "### สรุปข้อแนะนำสำหรับ Comment:\n",
                "\n",
                "- เขียนอธิบายตรงจุดที่โค้ดซับซ้อน\n",
                "\n",
                "- อธิบายว่าฟังก์ชันนี้ทำอะไร\n",
                "\n",
                "- กระชับ และเข้าใจง่าย\n",
                "\n",
                "- ใช้ภาษาเดียวกับตัวโค้ด เช่น ถ้าโค้ดใช้ภาษาไทย ➔ คอมเมนต์ไทยได้ ถ้าโค้ดอังกฤษ ➔ คอมเมนต์อังกฤษ\n",
                "\n"
            ]
        },
        {
            "cell_type": "code",
            "execution_count": null,
            "id": "bd7f9318",
            "metadata": {},
            "outputs": [],
            "source": [
                "# ฟังก์ชันคำนวณเกรดจากคะแนน\n",
                "def calculate_grade(score):\n",
                "    if score >= 80:\n",
                "        return \"A\"\n",
                "    elif score >= 70:\n",
                "        return \"B\"\n",
                "    elif score >= 60:\n",
                "        return \"C\"\n",
                "    elif score >= 50:\n",
                "        return \"D\"\n",
                "    else:\n",
                "        return \"F\"\n",
                "\n",
                "# ฟังก์ชันหลักสำหรับประมวลผลนักเรียน\n",
                "def process_students():\n",
                "    students = []  # สร้าง list สำหรับเก็บข้อมูลนักเรียน\n",
                "\n",
                "    while True:\n",
                "        name = input(\"กรุณากรอกชื่อนักเรียน (หรือพิมพ์ 'exit' เพื่อจบ): \")\n",
                "        if name.lower() == \"exit\":\n",
                "            print(\"จบการทำงานของโปรแกรม\")\n",
                "            break  # จบ loop ถ้าพิมพ์ exit\n",
                "\n",
                "        score = int(input(f\"กรอกคะแนนของ {name}: \"))\n",
                "        if score < 0 or score > 100:\n",
                "            print(\"กรุณากรอกคะแนนระหว่าง 0 ถึง 100 เท่านั้น\")\n",
                "            continue  # ถ้าคะแนนผิด ให้วนกลับไปถามใหม่\n",
                "\n",
                "        grade = calculate_grade(score)  # เรียกใช้ฟังก์ชันคำนวณเกรด\n",
                "\n",
                "        # เก็บข้อมูลนักเรียนใน list\n",
                "        students.append({\"name\": name, \"score\": score, \"grade\": grade})\n",
                "\n",
                "        # แสดงผลทันที\n",
                "        if grade == \"F\":\n",
                "            print(f\"{name} ได้เกรด F ❌\")\n",
                "        else:\n",
                "            print(f\"{name} ได้เกรด {grade} ✅\")\n",
                "\n",
                "    # แสดงผลข้อมูลนักเรียนทั้งหมด\n",
                "    print(\"\\nสรุปผลการเรียนของนักเรียน:\")\n",
                "    for student in students:\n",
                "        print(f\"ชื่อ: {student['name']}, คะแนน: {student['score']}, เกรด: {student['grade']}\")\n",
                "\n",
                "# เรียกฟังก์ชันหลัก\n",
                "process_students()"
            ]
        }
    ],
    "metadata": {
        "kernelspec": {
            "display_name": "Python 3",
            "language": "python",
            "name": "python3"
        },
        "language_info": {
            "codemirror_mode": {
                "name": "ipython",
                "version": 3
            },
            "file_extension": ".py",
            "mimetype": "text/x-python",
            "name": "python",
            "nbconvert_exporter": "python",
            "pygments_lexer": "ipython3",
            "version": "3.9.12"
        }
    },
    "nbformat": 4,
    "nbformat_minor": 5
}
