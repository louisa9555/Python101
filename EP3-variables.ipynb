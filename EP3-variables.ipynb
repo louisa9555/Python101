{
 "cells": [
  {
   "cell_type": "markdown",
   "metadata": {},
   "source": [
    "# เนื้อหาโดยรวม\n",
    "* ตัวแปร (Variables) คืออะไร\n",
    "* การตั้งชื่อตัวแปรที่ถูกต้อง\n",
    "* ชนิดข้อมูลพื้นฐาน (String, Integer, Float, Boolean)\n",
    "* การตรวจสอบชนิดข้อมูล\n",
    "* การแปลงชนิดข้อมูล"
   ]
  },
  {
   "cell_type": "markdown",
   "metadata": {},
   "source": [
    "## 1. ตัวแปร (Variables) คืออะไร?\n",
    "\n",
    "ตัวแปรเปรียบเสมือนกล่อง<b>ที่ใช้เก็บข้อมูล</b> โดยเราสามารถ<b>นำข้อมูลมาเก็บไว้และนำไปใช้ได้ในภายหลัง</b>\n",
    "\n",
    "การสร้างตัวแปรใน Python ทำได้โดยประกาศ `ชื่อตัวแปร = ค่า`"
   ]
  },
  {
   "cell_type": "code",
   "execution_count": null,
   "metadata": {},
   "outputs": [
    {
     "name": "stdout",
     "output_type": "stream",
     "text": [
      "ชื่อ: Louis\n",
      "นามสกุล:  MakerLab\n",
      "อายุ: 25\n",
      "ส่วนสูง: 175.0 เซนติเมตร\n",
      "เป็นนักเรียน: False\n"
     ]
    }
   ],
   "source": [
    "# ตัวอย่างการประกาศตัวแปร\n",
    "name = 'Louis'     # string\n",
    "surename = \"MakerLab\" # string\n",
    "age = 25           # interger\n",
    "height = 175.0     # float\n",
    "is_student = False  # boolean\n",
    "\n",
    "# การแสดงค่าของตัวแปร\n",
    "print(\"ชื่อ:\", name)\n",
    "print(\"นามสกุล: \", surename)\n",
    "print(\"อายุ:\", age)\n",
    "print(\"ส่วนสูง:\", height, \"เซนติเมตร\")\n",
    "print(\"เป็นนักเรียน:\", is_student)"
   ]
  },
  {
   "cell_type": "markdown",
   "metadata": {},
   "source": [
    "## 2. การตั้งชื่อตัวแปรที่ถูกต้อง\n",
    "\n",
    "กฎการตั้งชื่อตัวแปรใน Python:\n",
    "* ต้องขึ้นต้นด้วยตัวอักษรหรือเครื่องหมาย underscore (_)\n",
    "* ประกอบด้วยตัวอักษร ตัวเลข หรือ underscore\n",
    "* ตัวพิมพ์เล็กและตัวพิมพ์ใหญ่ถือว่าเป็นคนละตัวกัน (case-sensitive)\n",
    "* ห้ามใช้คำสงวน (reserved keywords) ของ Python เช่น if, else, while, for เป็นชื่อตัวแปร\n",
    "\n",
    "https://khalilstemmler.com/blogs/camel-case-snake-case-pascal-case/\n"
   ]
  },
  {
   "cell_type": "code",
   "execution_count": null,
   "metadata": {},
   "outputs": [
    {
     "name": "stdout",
     "output_type": "stream",
     "text": [
      "1\n",
      "2\n"
     ]
    }
   ],
   "source": [
    "# ตัวอย่างการตั้งชื่อตัวแปรที่ถูกต้อง\n",
    "user_name = \"John\"    # แนะนำให้ใช้ snake_case สำหรับชื่อตัวแปร\n",
    "age1 = 30             # ใช้ตัวเลขตามหลังได้\n",
    "_private = \"secret\"   # เริ่มด้วย underscore ได้"
   ]
  },
  {
   "cell_type": "markdown",
   "metadata": {},
   "source": [
    "## 3. ชนิดข้อมูลพื้นฐาน (Basic Data Types)\n",
    "\n",
    "Python มีชนิดข้อมูลพื้นฐาน 4 ประเภท:\n",
    "1. String (str): ข้อความ\n",
    "2. Integer (int): จำนวนเต็ม\n",
    "3. Float (float): จำนวนทศนิยม\n",
    "4. Boolean (bool): ค่าความจริง (True/False)"
   ]
  },
  {
   "cell_type": "markdown",
   "metadata": {},
   "source": [
    "### 3.1 String - ข้อความ"
   ]
  },
  {
   "cell_type": "code",
   "execution_count": 41,
   "metadata": {},
   "outputs": [
    {
     "name": "stdout",
     "output_type": "stream",
     "text": [
      "Alice Smith\n",
      "****************************************************************************************************\n",
      "e\n",
      "A\n",
      "สามตัวแรกของที่อยู่:  123\n",
      "5\n",
      "e\n",
      "Upper Case:  ALICE\n",
      "Lower Case:  alice\n",
      "Louis\n"
     ]
    }
   ],
   "source": [
    "# String คือข้อความที่อยู่ในเครื่องหมาย quote (' หรือ \")\n",
    "first_name = \"Alice\"\n",
    "last_name = 'Smith'\n",
    "address = \"123 ถนนสุขุมวิท กรุงเทพฯ\"\n",
    "\n",
    "# การจัดการกับ String\n",
    "# 1. การต่อข้อความ (Concatenation)\n",
    "full_name = first_name + \" \" + last_name\n",
    "print(full_name)\n",
    "# 2. การทำซ้ำ (Repetition)\n",
    "times = 100\n",
    "display_text = \"*\" * times\n",
    "print(display_text)\n",
    "# 3. การเข้าถึงตัวอักษรในข้อความ (Indexing)\n",
    "print(first_name[4])\n",
    "print(first_name[-5])\n",
    "# 4. การตัดข้อความ (Slicing)\n",
    "print(\"สามตัวแรกของที่อยู่: \", address[0:3])\n",
    "# 5. ความยาวของ String\n",
    "print(len(first_name))\n",
    "print(first_name[len(first_name)-1])\n",
    "# 6. Method ของ String\n",
    "print(\"Upper Case: \", first_name.upper())\n",
    "print(\"Lower Case: \", first_name.lower())\n",
    "input = \" Louis \"\n",
    "print(input.strip())"
   ]
  },
  {
   "cell_type": "markdown",
   "metadata": {},
   "source": [
    "### 3.2 Integer - จำนวนเต็ม"
   ]
  },
  {
   "cell_type": "code",
   "execution_count": null,
   "metadata": {},
   "outputs": [
    {
     "name": "stdout",
     "output_type": "stream",
     "text": [
      "23\n",
      "7\n",
      "120\n",
      "1.875\n",
      "1\n",
      "7\n",
      "2562890625\n"
     ]
    }
   ],
   "source": [
    "# Integer คือจำนวนเต็ม (ไม่มีจุดทศนิยม)\n",
    "age = 25\n",
    "temperature = -10\n",
    "count = 1_000_000  # สามารถใช้ underscore เพื่อให้อ่านง่ายขึ้น\n",
    "\n",
    "a = 15\n",
    "b = 8\n",
    "\n",
    "print(a+b) \n",
    "print(a-b)\n",
    "print(a*b)\n",
    "print(a/b)\n",
    "print(a//b)\n",
    "print(a%b)\n",
    "print(a**b)"
   ]
  },
  {
   "cell_type": "markdown",
   "metadata": {},
   "source": [
    "### 3.3 Float - จำนวนทศนิยม"
   ]
  },
  {
   "cell_type": "code",
   "execution_count": 60,
   "metadata": {},
   "outputs": [
    {
     "name": "stdout",
     "output_type": "stream",
     "text": [
      "ค่า pi: 3.14159\n",
      "จำนวนในรูปแบบสัญกรณ์วิทยาศาสตร์: 0.6022\n",
      "0.35\n"
     ]
    }
   ],
   "source": [
    "# Float คือจำนวนที่มีจุดทศนิยม\n",
    "height = 165.5\n",
    "weight = 55.8\n",
    "pi = 3.14159\n",
    "science_notation = 6.022e-1  # ใช้สัญกรณ์ทางวิทยาศาสตร์ได้\n",
    "\n",
    "print(\"ค่า pi:\", pi)\n",
    "print(\"จำนวนในรูปแบบสัญกรณ์วิทยาศาสตร์:\", science_notation)\n",
    "\n",
    "sum = 0.1 + 0.25\n",
    "print(round(sum, 2))"
   ]
  },
  {
   "cell_type": "markdown",
   "metadata": {},
   "source": [
    "### 3.4 Boolean - ค่าความจริง"
   ]
  },
  {
   "cell_type": "code",
   "execution_count": null,
   "metadata": {},
   "outputs": [
    {
     "name": "stdout",
     "output_type": "stream",
     "text": [
      "เป็นนักเรียน? True\n",
      "กำลังทำงาน? False\n",
      "Adult ?:  True\n",
      "สามารถเข้าห้องสมุดได้มั้ย:  False\n",
      "False:  None\n"
     ]
    }
   ],
   "source": [
    "# Boolean มีแค่ 2 ค่า: True และ False\n",
    "is_student = True\n",
    "is_working = False\n",
    "\n",
    "print(\"เป็นนักเรียน?\", is_student)\n",
    "print(\"กำลังทำงาน?\", is_working)\n",
    "# การใช้ Boolean ในการเปรียบเทียบ\n",
    "age = 20\n",
    "is_adult = age>=20\n",
    "print(\"Adult ?: \",is_adult) \n",
    "# การใช้ Boolean กับตรรกะ (Logical operators and, or, not)\n",
    "is_student = True\n",
    "has_student_id = False\n",
    "print(\"สามารถเข้าห้องสมุดได้มั้ย: \", is_student and has_student_id)\n",
    "# ค่าที่ถือว่าเป็น False ใน Python (0, \"\", '', [], None)\n",
    "input = None\n",
    "if input:\n",
    "    print(\"True: \",input)\n",
    "else:\n",
    "    print(\"False: \",input)\n",
    "# ค่าที่ถือว่าเป็น True ใน Python\n",
    "print(\"bool(1) =\", bool(1))        # จำนวนที่ไม่ใช่ศูนย์ถือว่าเป็น True\n",
    "print(\"bool('hello') =\", bool(\"hello\")) # string ที่ไม่ว่างถือว่าเป็น True\n",
    "print(\"bool([1, 2]) =\", bool([1, 2]))  # list ที่ไม่ว่างถือว่าเป็น True"
   ]
  },
  {
   "cell_type": "markdown",
   "metadata": {},
   "source": [
    "## 4. การตรวจสอบชนิดข้อมูล (Type Checking)"
   ]
  },
  {
   "cell_type": "code",
   "execution_count": 103,
   "metadata": {},
   "outputs": [
    {
     "name": "stdout",
     "output_type": "stream",
     "text": [
      "<class 'NoneType'>\n",
      "<class 'int'>\n",
      "<class 'float'>\n",
      "<class 'str'>\n",
      "input เป็น str หรือไม่:  True\n",
      "input เป็น int หรือไม่:  True\n",
      "input เป็น None หรือไม่:  True\n",
      "input เป็น int หรือไม่:  False\n",
      "input เป็น str หรือไม่:  True\n"
     ]
    }
   ],
   "source": [
    "# การใช้ฟังก์ชัน type() เพื่อตรวจสอบชนิดข้อมูล\n",
    "name = \"Alice\"\n",
    "age = 25\n",
    "height = 165.5\n",
    "is_student = True\n",
    "\n",
    "input = None\n",
    "print(type(input))\n",
    "\n",
    "input = 1\n",
    "print(type(input))\n",
    "\n",
    "input = 10.2\n",
    "print(type(input))\n",
    "\n",
    "input = \"Text\"\n",
    "print(type(input))\n",
    "\n",
    "# การเปรียบเทียบชนิดข้อมูล (str, int, float)\n",
    "print(\"input เป็น str หรือไม่: \", type(input) is str)\n",
    "input = 5\n",
    "print(\"input เป็น int หรือไม่: \", type(input) is int)\n",
    "input = None\n",
    "print(\"input เป็น None หรือไม่: \", input is None)\n",
    "\n",
    "# การใช้ isinstance() เพื่อตรวจสอบชนิดข้อมูล\n",
    "input = \"text\"\n",
    "print(\"input เป็น int หรือไม่: \", isinstance(input, int))\n",
    "print(\"input เป็น str หรือไม่: \", isinstance(input, str))"
   ]
  },
  {
   "cell_type": "markdown",
   "metadata": {},
   "source": [
    "## 5. การแปลงชนิดข้อมูล (Type Conversion)"
   ]
  },
  {
   "cell_type": "code",
   "execution_count": null,
   "metadata": {},
   "outputs": [
    {
     "name": "stdout",
     "output_type": "stream",
     "text": [
      "<class 'str'>\n",
      "<class 'int'>\n",
      "<class 'float'>\n",
      "True\n",
      "True\n",
      "True\n",
      "<class 'int'>\n",
      "<class 'int'>\n",
      "invalid literal for int() with base 10: 'Alice'\n"
     ]
    }
   ],
   "source": [
    "# การแปลงชนิดข้อมูล (Type Conversion)\n",
    "age = 25\n",
    "age = str(age)\n",
    "print(type(age))\n",
    "\n",
    "age = \"100\"\n",
    "age = int(age)\n",
    "print(type(age))\n",
    "\n",
    "height = \"150.1\"\n",
    "height = float(height)\n",
    "print(type(height))\n",
    "\n",
    "\n",
    "# 0, '', []\n",
    "print(bool(1))\n",
    "print(bool('as'))\n",
    "print(bool([1,2]))\n",
    "\n",
    "number = round(float(\"10.5\"), 0)\n",
    "number = int(number)\n",
    "print(type(number))\n",
    "\n",
    "try:\n",
    "    input = \"Alice\"\n",
    "    age = int(input)\n",
    "except ValueError as error: \n",
    "    input = 0\n",
    "    age = int(input)\n",
    "    print(type(age))\n",
    "    print(error)"
   ]
  },
  {
   "cell_type": "markdown",
   "metadata": {},
   "source": [
    "## 6. แบบฝึกหัด (Exercises)"
   ]
  },
  {
   "cell_type": "code",
   "execution_count": null,
   "metadata": {},
   "outputs": [
    {
     "name": "stdout",
     "output_type": "stream",
     "text": [
      "ชื่อ 123, อายุ 25\n"
     ]
    }
   ],
   "source": [
    "# แบบฝึกหัดที่ 1: สร้างตัวแปรใหม่สำหรับเก็บข้อมูลส่วนตัว\n",
    "# TODO: สร้างตัวแปรสำหรับ ชื่อเล่น, ปีเกิด, น้ำหนัก และสถานะการแต่งงาน\n",
    "\n",
    "# แบบฝึกหัดที่ 2: คำนวณอายุจากปีเกิด\n",
    "# TODO: สร้างตัวแปรเก็บปีปัจจุบัน และคำนวณอายุจากปีเกิดที่กำหนด\n",
    "\n",
    "# แบบฝึกหัดที่ 3: สร้าง profile แนะนำตัวจากข้อมูลส่วนตัว\n",
    "# TODO: นำข้อมูลทั้งหมดมาสร้างเป็นประโยคแนะนำตัว\n",
    "\n",
    "# แบบฝึกหัดที่ 4: ตรวจสอบเงื่อนไข\n",
    "# TODO: ตรวจสอบว่าอายุมากกว่า 18 ปีหรือไม่ และผลลัพธ์เป็น Boolean\n",
    "\n",
    "# แบบฝึกหัดที่ 5: แปลงชนิดข้อมูล\n",
    "# TODO: รับข้อมูลอายุเป็น string และแปลงเป็น integer"
   ]
  },
  {
   "cell_type": "markdown",
   "metadata": {},
   "source": [
    "## 7. สรุป\n",
    "\n",
    "ในบทเรียนนี้เราได้เรียนรู้เกี่ยวกับ:\n",
    "\n",
    "1. **ตัวแปร (Variables)** - พื้นที่เก็บข้อมูลที่สามารถเปลี่ยนแปลงได้\n",
    "2. **การตั้งชื่อตัวแปร** - กฎและวิธีการตั้งชื่อตัวแปรที่ดี\n",
    "3. **ชนิดข้อมูลพื้นฐาน**\n",
    "   - **String (str)** - ข้อความ เช่น \"Hello\"\n",
    "   - **Integer (int)** - จำนวนเต็ม เช่น 42\n",
    "   - **Float (float)** - จำนวนทศนิยม เช่น 3.14\n",
    "   - **Boolean (bool)** - ค่าความจริง True/False\n",
    "4. **การตรวจสอบชนิดข้อมูล** - ใช้ฟังก์ชัน type() และ isinstance()\n",
    "5. **การแปลงชนิดข้อมูล** - ใช้ฟังก์ชัน str(), int(), float(), bool()\n",
    "\n",
    "สิ่งสำคัญคือการเลือกใช้ชนิดข้อมูลที่เหมาะสมกับงานและการจัดการกับข้อผิดพลาดที่อาจเกิดขึ้นจากการแปลงชนิดข้อมูล"
   ]
  },
  {
   "cell_type": "markdown",
   "metadata": {},
   "source": [
    "## 8. เฉลยแบบฝึกหัด"
   ]
  },
  {
   "cell_type": "code",
   "execution_count": null,
   "metadata": {},
   "outputs": [],
   "source": [
    "# เฉลยแบบฝึกหัดที่ 1\n",
    "nickname = \"โจ้\"\n",
    "birth_year = 2000\n",
    "weight = 65.7\n",
    "is_married = False\n",
    "\n",
    "print(\"ชื่อเล่น:\", nickname)\n",
    "print(\"ปีเกิด:\", birth_year)\n",
    "print(\"น้ำหนัก:\", weight)\n",
    "print(\"สถานะการแต่งงาน:\", is_married)\n",
    "print(\"ชนิดข้อมูล:\", type(nickname), type(birth_year), type(weight), type(is_married))\n",
    "\n",
    "# เฉลยแบบฝึกหัดที่ 2\n",
    "current_year = 2025\n",
    "age = current_year - birth_year\n",
    "print(f\"อายุ: {age} ปี\")\n",
    "\n",
    "# เฉลยแบบฝึกหัดที่ 3\n",
    "status = \"แต่งงาน\" if is_married else \"โสด\"\n",
    "profile = f\"สวัสดีครับ ผมชื่อ {nickname} อายุ {age} ปี น้ำหนัก {weight} กก. สถานะ: {status}\"\n",
    "print(profile)\n",
    "\n",
    "# เฉลยแบบฝึกหัดที่ 4\n",
    "is_adult = age >= 18\n",
    "print(f\"อายุ {age} ปีถือว่าเป็นผู้ใหญ่หรือไม่? {is_adult}\")\n",
    "\n",
    "# เฉลยแบบฝึกหัดที่ 5\n",
    "age_input = \"25\"  # สมมติว่านี่คือข้อมูลที่รับมา\n",
    "age_value = int(age_input)\n",
    "print(f\"อายุก่อนแปลง: {age_input} (ชนิด: {type(age_input)})\")\n",
    "print(f\"อายุหลังแปลง: {age_value} (ชนิด: {type(age_value)})\")\n",
    "print(f\"ปีที่เกิด: {current_year - age_value}\")"
   ]
  }
 ],
 "metadata": {
  "kernelspec": {
   "display_name": "Python 3",
   "language": "python",
   "name": "python3"
  },
  "language_info": {
   "codemirror_mode": {
    "name": "ipython",
    "version": 3
   },
   "file_extension": ".py",
   "mimetype": "text/x-python",
   "name": "python",
   "nbconvert_exporter": "python",
   "pygments_lexer": "ipython3",
   "version": "3.9.12"
  }
 },
 "nbformat": 4,
 "nbformat_minor": 2
}
